{
 "cells": [
  {
   "cell_type": "code",
   "execution_count": 1,
   "metadata": {},
   "outputs": [
    {
     "name": "stdout",
     "output_type": "stream",
     "text": [
      "Requirement already satisfied: dataframe_image in /Users/admin/anaconda3/envs/dev/lib/python3.10/site-packages (0.1.11)\n",
      "Requirement already satisfied: lxml in /Users/admin/anaconda3/envs/dev/lib/python3.10/site-packages (from dataframe_image) (4.9.2)\n",
      "Requirement already satisfied: pillow in /Users/admin/anaconda3/envs/dev/lib/python3.10/site-packages (from dataframe_image) (9.4.0)\n",
      "Requirement already satisfied: requests in /Users/admin/anaconda3/envs/dev/lib/python3.10/site-packages (from dataframe_image) (2.29.0)\n",
      "Requirement already satisfied: aiohttp in /Users/admin/anaconda3/envs/dev/lib/python3.10/site-packages (from dataframe_image) (3.8.3)\n",
      "Requirement already satisfied: beautifulsoup4 in /Users/admin/anaconda3/envs/dev/lib/python3.10/site-packages (from dataframe_image) (4.12.2)\n",
      "Requirement already satisfied: mistune in /Users/admin/anaconda3/envs/dev/lib/python3.10/site-packages (from dataframe_image) (0.8.4)\n",
      "Requirement already satisfied: pandas>=0.24 in /Users/admin/anaconda3/envs/dev/lib/python3.10/site-packages (from dataframe_image) (1.5.3)\n",
      "Requirement already satisfied: html2image in /Users/admin/anaconda3/envs/dev/lib/python3.10/site-packages (from dataframe_image) (2.0.3)\n",
      "Requirement already satisfied: cssutils in /Users/admin/anaconda3/envs/dev/lib/python3.10/site-packages (from dataframe_image) (2.7.1)\n",
      "Requirement already satisfied: nbconvert>=5 in /Users/admin/anaconda3/envs/dev/lib/python3.10/site-packages (from dataframe_image) (6.5.4)\n",
      "Requirement already satisfied: packaging in /Users/admin/anaconda3/envs/dev/lib/python3.10/site-packages (from dataframe_image) (23.0)\n",
      "Requirement already satisfied: entrypoints>=0.2.2 in /Users/admin/anaconda3/envs/dev/lib/python3.10/site-packages (from nbconvert>=5->dataframe_image) (0.4)\n",
      "Requirement already satisfied: jupyter-core>=4.7 in /Users/admin/anaconda3/envs/dev/lib/python3.10/site-packages (from nbconvert>=5->dataframe_image) (5.3.0)\n",
      "Requirement already satisfied: bleach in /Users/admin/anaconda3/envs/dev/lib/python3.10/site-packages (from nbconvert>=5->dataframe_image) (4.1.0)\n",
      "Requirement already satisfied: tinycss2 in /Users/admin/anaconda3/envs/dev/lib/python3.10/site-packages (from nbconvert>=5->dataframe_image) (1.2.1)\n",
      "Requirement already satisfied: pygments>=2.4.1 in /Users/admin/anaconda3/envs/dev/lib/python3.10/site-packages (from nbconvert>=5->dataframe_image) (2.15.1)\n",
      "Requirement already satisfied: defusedxml in /Users/admin/anaconda3/envs/dev/lib/python3.10/site-packages (from nbconvert>=5->dataframe_image) (0.7.1)\n",
      "Requirement already satisfied: pandocfilters>=1.4.1 in /Users/admin/anaconda3/envs/dev/lib/python3.10/site-packages (from nbconvert>=5->dataframe_image) (1.5.0)\n",
      "Requirement already satisfied: traitlets>=5.0 in /Users/admin/anaconda3/envs/dev/lib/python3.10/site-packages (from nbconvert>=5->dataframe_image) (5.7.1)\n",
      "Requirement already satisfied: jupyterlab-pygments in /Users/admin/anaconda3/envs/dev/lib/python3.10/site-packages (from nbconvert>=5->dataframe_image) (0.1.2)\n",
      "Requirement already satisfied: nbclient>=0.5.0 in /Users/admin/anaconda3/envs/dev/lib/python3.10/site-packages (from nbconvert>=5->dataframe_image) (0.5.13)\n",
      "Requirement already satisfied: nbformat>=5.1 in /Users/admin/anaconda3/envs/dev/lib/python3.10/site-packages (from nbconvert>=5->dataframe_image) (5.7.0)\n",
      "Requirement already satisfied: MarkupSafe>=2.0 in /Users/admin/anaconda3/envs/dev/lib/python3.10/site-packages (from nbconvert>=5->dataframe_image) (2.1.1)\n",
      "Requirement already satisfied: jinja2>=3.0 in /Users/admin/anaconda3/envs/dev/lib/python3.10/site-packages (from nbconvert>=5->dataframe_image) (3.1.2)\n",
      "Requirement already satisfied: python-dateutil>=2.8.1 in /Users/admin/anaconda3/envs/dev/lib/python3.10/site-packages (from pandas>=0.24->dataframe_image) (2.8.2)\n",
      "Requirement already satisfied: pytz>=2020.1 in /Users/admin/anaconda3/envs/dev/lib/python3.10/site-packages (from pandas>=0.24->dataframe_image) (2022.7)\n",
      "Requirement already satisfied: numpy>=1.21.0 in /Users/admin/anaconda3/envs/dev/lib/python3.10/site-packages (from pandas>=0.24->dataframe_image) (1.24.3)\n",
      "Requirement already satisfied: async-timeout<5.0,>=4.0.0a3 in /Users/admin/anaconda3/envs/dev/lib/python3.10/site-packages (from aiohttp->dataframe_image) (4.0.2)\n",
      "Requirement already satisfied: yarl<2.0,>=1.0 in /Users/admin/anaconda3/envs/dev/lib/python3.10/site-packages (from aiohttp->dataframe_image) (1.8.1)\n",
      "Requirement already satisfied: aiosignal>=1.1.2 in /Users/admin/anaconda3/envs/dev/lib/python3.10/site-packages (from aiohttp->dataframe_image) (1.2.0)\n",
      "Requirement already satisfied: attrs>=17.3.0 in /Users/admin/anaconda3/envs/dev/lib/python3.10/site-packages (from aiohttp->dataframe_image) (22.1.0)\n",
      "Requirement already satisfied: frozenlist>=1.1.1 in /Users/admin/anaconda3/envs/dev/lib/python3.10/site-packages (from aiohttp->dataframe_image) (1.3.3)\n",
      "Requirement already satisfied: multidict<7.0,>=4.5 in /Users/admin/anaconda3/envs/dev/lib/python3.10/site-packages (from aiohttp->dataframe_image) (6.0.2)\n",
      "Requirement already satisfied: charset-normalizer<3.0,>=2.0 in /Users/admin/anaconda3/envs/dev/lib/python3.10/site-packages (from aiohttp->dataframe_image) (2.0.4)\n",
      "Requirement already satisfied: soupsieve>1.2 in /Users/admin/anaconda3/envs/dev/lib/python3.10/site-packages (from beautifulsoup4->dataframe_image) (2.4)\n",
      "Requirement already satisfied: certifi>=2017.4.17 in /Users/admin/anaconda3/envs/dev/lib/python3.10/site-packages (from requests->dataframe_image) (2023.7.22)\n",
      "Requirement already satisfied: urllib3<1.27,>=1.21.1 in /Users/admin/anaconda3/envs/dev/lib/python3.10/site-packages (from requests->dataframe_image) (1.26.15)\n",
      "Requirement already satisfied: idna<4,>=2.5 in /Users/admin/anaconda3/envs/dev/lib/python3.10/site-packages (from requests->dataframe_image) (3.4)\n",
      "Requirement already satisfied: platformdirs>=2.5 in /Users/admin/anaconda3/envs/dev/lib/python3.10/site-packages (from jupyter-core>=4.7->nbconvert>=5->dataframe_image) (2.5.2)\n",
      "Requirement already satisfied: jupyter-client>=6.1.5 in /Users/admin/anaconda3/envs/dev/lib/python3.10/site-packages (from nbclient>=0.5.0->nbconvert>=5->dataframe_image) (7.4.9)\n",
      "Requirement already satisfied: nest-asyncio in /Users/admin/anaconda3/envs/dev/lib/python3.10/site-packages (from nbclient>=0.5.0->nbconvert>=5->dataframe_image) (1.5.6)\n",
      "Requirement already satisfied: fastjsonschema in /Users/admin/anaconda3/envs/dev/lib/python3.10/site-packages (from nbformat>=5.1->nbconvert>=5->dataframe_image) (2.16.2)\n",
      "Requirement already satisfied: jsonschema>=2.6 in /Users/admin/anaconda3/envs/dev/lib/python3.10/site-packages (from nbformat>=5.1->nbconvert>=5->dataframe_image) (4.17.3)\n",
      "Requirement already satisfied: six>=1.5 in /Users/admin/anaconda3/envs/dev/lib/python3.10/site-packages (from python-dateutil>=2.8.1->pandas>=0.24->dataframe_image) (1.16.0)\n",
      "Requirement already satisfied: webencodings in /Users/admin/anaconda3/envs/dev/lib/python3.10/site-packages (from bleach->nbconvert>=5->dataframe_image) (0.5.1)\n",
      "Requirement already satisfied: pyrsistent!=0.17.0,!=0.17.1,!=0.17.2,>=0.14.0 in /Users/admin/anaconda3/envs/dev/lib/python3.10/site-packages (from jsonschema>=2.6->nbformat>=5.1->nbconvert>=5->dataframe_image) (0.18.0)\n",
      "Requirement already satisfied: tornado>=6.2 in /Users/admin/anaconda3/envs/dev/lib/python3.10/site-packages (from jupyter-client>=6.1.5->nbclient>=0.5.0->nbconvert>=5->dataframe_image) (6.2)\n",
      "Requirement already satisfied: pyzmq>=23.0 in /Users/admin/anaconda3/envs/dev/lib/python3.10/site-packages (from jupyter-client>=6.1.5->nbclient>=0.5.0->nbconvert>=5->dataframe_image) (23.2.0)\n"
     ]
    }
   ],
   "source": [
    "import matplotlib.pyplot as plt\n",
    "import pandas as pd\n",
    "import numpy as np\n",
    "import requests\n",
    "import time\n",
    "from scipy.stats import linregress\n",
    "!pip install dataframe_image\n",
    "import dataframe_image as dfi"
   ]
  },
  {
   "cell_type": "code",
   "execution_count": 28,
   "metadata": {},
   "outputs": [
    {
     "data": {
      "text/html": [
       "<div>\n",
       "<style scoped>\n",
       "    .dataframe tbody tr th:only-of-type {\n",
       "        vertical-align: middle;\n",
       "    }\n",
       "\n",
       "    .dataframe tbody tr th {\n",
       "        vertical-align: top;\n",
       "    }\n",
       "\n",
       "    .dataframe thead th {\n",
       "        text-align: right;\n",
       "    }\n",
       "</style>\n",
       "<table border=\"1\" class=\"dataframe\">\n",
       "  <thead>\n",
       "    <tr style=\"text-align: right;\">\n",
       "      <th></th>\n",
       "      <th>Year</th>\n",
       "      <th>113 Cause Name</th>\n",
       "      <th>Cause Name</th>\n",
       "      <th>State</th>\n",
       "      <th>Deaths</th>\n",
       "      <th>Age-adjusted Death Rate</th>\n",
       "    </tr>\n",
       "  </thead>\n",
       "  <tbody>\n",
       "    <tr>\n",
       "      <th>0</th>\n",
       "      <td>2017</td>\n",
       "      <td>Accidents (unintentional injuries) (V01-X59,Y8...</td>\n",
       "      <td>Unintentional injuries</td>\n",
       "      <td>United States</td>\n",
       "      <td>169936</td>\n",
       "      <td>49.4</td>\n",
       "    </tr>\n",
       "    <tr>\n",
       "      <th>1</th>\n",
       "      <td>2017</td>\n",
       "      <td>Accidents (unintentional injuries) (V01-X59,Y8...</td>\n",
       "      <td>Unintentional injuries</td>\n",
       "      <td>Alabama</td>\n",
       "      <td>2703</td>\n",
       "      <td>53.8</td>\n",
       "    </tr>\n",
       "    <tr>\n",
       "      <th>2</th>\n",
       "      <td>2017</td>\n",
       "      <td>Accidents (unintentional injuries) (V01-X59,Y8...</td>\n",
       "      <td>Unintentional injuries</td>\n",
       "      <td>Alaska</td>\n",
       "      <td>436</td>\n",
       "      <td>63.7</td>\n",
       "    </tr>\n",
       "    <tr>\n",
       "      <th>3</th>\n",
       "      <td>2017</td>\n",
       "      <td>Accidents (unintentional injuries) (V01-X59,Y8...</td>\n",
       "      <td>Unintentional injuries</td>\n",
       "      <td>Arizona</td>\n",
       "      <td>4184</td>\n",
       "      <td>56.2</td>\n",
       "    </tr>\n",
       "    <tr>\n",
       "      <th>4</th>\n",
       "      <td>2017</td>\n",
       "      <td>Accidents (unintentional injuries) (V01-X59,Y8...</td>\n",
       "      <td>Unintentional injuries</td>\n",
       "      <td>Arkansas</td>\n",
       "      <td>1625</td>\n",
       "      <td>51.8</td>\n",
       "    </tr>\n",
       "  </tbody>\n",
       "</table>\n",
       "</div>"
      ],
      "text/plain": [
       "   Year                                     113 Cause Name  \\\n",
       "0  2017  Accidents (unintentional injuries) (V01-X59,Y8...   \n",
       "1  2017  Accidents (unintentional injuries) (V01-X59,Y8...   \n",
       "2  2017  Accidents (unintentional injuries) (V01-X59,Y8...   \n",
       "3  2017  Accidents (unintentional injuries) (V01-X59,Y8...   \n",
       "4  2017  Accidents (unintentional injuries) (V01-X59,Y8...   \n",
       "\n",
       "               Cause Name          State  Deaths  Age-adjusted Death Rate  \n",
       "0  Unintentional injuries  United States  169936                     49.4  \n",
       "1  Unintentional injuries        Alabama    2703                     53.8  \n",
       "2  Unintentional injuries         Alaska     436                     63.7  \n",
       "3  Unintentional injuries        Arizona    4184                     56.2  \n",
       "4  Unintentional injuries       Arkansas    1625                     51.8  "
      ]
     },
     "execution_count": 28,
     "metadata": {},
     "output_type": "execute_result"
    }
   ],
   "source": [
    "from pathlib import Path\n",
    "CoD = Path(\"NCHS_-_Leading_Causes_of_Death__United_States.csv\")\n",
    "COD_df = pd.read_csv(CoD)\n",
    "COD_df.head()"
   ]
  },
  {
   "cell_type": "code",
   "execution_count": 29,
   "metadata": {},
   "outputs": [
    {
     "data": {
      "text/plain": [
       "Unintentional injuries     988\n",
       "All causes                 988\n",
       "Alzheimer's disease        988\n",
       "Stroke                     988\n",
       "CLRD                       988\n",
       "Diabetes                   988\n",
       "Heart disease              988\n",
       "Influenza and pneumonia    988\n",
       "Suicide                    988\n",
       "Cancer                     988\n",
       "Kidney disease             988\n",
       "Name: Cause Name, dtype: int64"
      ]
     },
     "execution_count": 29,
     "metadata": {},
     "output_type": "execute_result"
    }
   ],
   "source": [
    "COD_counts = COD_df['Cause Name'].value_counts()\n",
    "COD_counts"
   ]
  },
  {
   "cell_type": "code",
   "execution_count": 117,
   "metadata": {},
   "outputs": [
    {
     "data": {
      "text/html": [
       "<div>\n",
       "<style scoped>\n",
       "    .dataframe tbody tr th:only-of-type {\n",
       "        vertical-align: middle;\n",
       "    }\n",
       "\n",
       "    .dataframe tbody tr th {\n",
       "        vertical-align: top;\n",
       "    }\n",
       "\n",
       "    .dataframe thead th {\n",
       "        text-align: right;\n",
       "    }\n",
       "</style>\n",
       "<table border=\"1\" class=\"dataframe\">\n",
       "  <thead>\n",
       "    <tr style=\"text-align: right;\">\n",
       "      <th></th>\n",
       "      <th>Year</th>\n",
       "      <th>113 Cause Name</th>\n",
       "      <th>Cause Name</th>\n",
       "      <th>State</th>\n",
       "      <th>Deaths</th>\n",
       "      <th>Age-adjusted Death Rate</th>\n",
       "    </tr>\n",
       "  </thead>\n",
       "  <tbody>\n",
       "    <tr>\n",
       "      <th>1</th>\n",
       "      <td>2017</td>\n",
       "      <td>Accidents (unintentional injuries) (V01-X59,Y8...</td>\n",
       "      <td>Unintentional injuries</td>\n",
       "      <td>Alabama</td>\n",
       "      <td>2703</td>\n",
       "      <td>53.8</td>\n",
       "    </tr>\n",
       "    <tr>\n",
       "      <th>2</th>\n",
       "      <td>2017</td>\n",
       "      <td>Accidents (unintentional injuries) (V01-X59,Y8...</td>\n",
       "      <td>Unintentional injuries</td>\n",
       "      <td>Alaska</td>\n",
       "      <td>436</td>\n",
       "      <td>63.7</td>\n",
       "    </tr>\n",
       "    <tr>\n",
       "      <th>3</th>\n",
       "      <td>2017</td>\n",
       "      <td>Accidents (unintentional injuries) (V01-X59,Y8...</td>\n",
       "      <td>Unintentional injuries</td>\n",
       "      <td>Arizona</td>\n",
       "      <td>4184</td>\n",
       "      <td>56.2</td>\n",
       "    </tr>\n",
       "    <tr>\n",
       "      <th>4</th>\n",
       "      <td>2017</td>\n",
       "      <td>Accidents (unintentional injuries) (V01-X59,Y8...</td>\n",
       "      <td>Unintentional injuries</td>\n",
       "      <td>Arkansas</td>\n",
       "      <td>1625</td>\n",
       "      <td>51.8</td>\n",
       "    </tr>\n",
       "    <tr>\n",
       "      <th>5</th>\n",
       "      <td>2017</td>\n",
       "      <td>Accidents (unintentional injuries) (V01-X59,Y8...</td>\n",
       "      <td>Unintentional injuries</td>\n",
       "      <td>California</td>\n",
       "      <td>13840</td>\n",
       "      <td>33.2</td>\n",
       "    </tr>\n",
       "    <tr>\n",
       "      <th>...</th>\n",
       "      <td>...</td>\n",
       "      <td>...</td>\n",
       "      <td>...</td>\n",
       "      <td>...</td>\n",
       "      <td>...</td>\n",
       "      <td>...</td>\n",
       "    </tr>\n",
       "    <tr>\n",
       "      <th>10863</th>\n",
       "      <td>1999</td>\n",
       "      <td>Nephritis, nephrotic syndrome and nephrosis (N...</td>\n",
       "      <td>Kidney disease</td>\n",
       "      <td>Virginia</td>\n",
       "      <td>1035</td>\n",
       "      <td>16.9</td>\n",
       "    </tr>\n",
       "    <tr>\n",
       "      <th>10864</th>\n",
       "      <td>1999</td>\n",
       "      <td>Nephritis, nephrotic syndrome and nephrosis (N...</td>\n",
       "      <td>Kidney disease</td>\n",
       "      <td>Washington</td>\n",
       "      <td>278</td>\n",
       "      <td>5.2</td>\n",
       "    </tr>\n",
       "    <tr>\n",
       "      <th>10865</th>\n",
       "      <td>1999</td>\n",
       "      <td>Nephritis, nephrotic syndrome and nephrosis (N...</td>\n",
       "      <td>Kidney disease</td>\n",
       "      <td>West Virginia</td>\n",
       "      <td>345</td>\n",
       "      <td>16.4</td>\n",
       "    </tr>\n",
       "    <tr>\n",
       "      <th>10866</th>\n",
       "      <td>1999</td>\n",
       "      <td>Nephritis, nephrotic syndrome and nephrosis (N...</td>\n",
       "      <td>Kidney disease</td>\n",
       "      <td>Wisconsin</td>\n",
       "      <td>677</td>\n",
       "      <td>11.9</td>\n",
       "    </tr>\n",
       "    <tr>\n",
       "      <th>10867</th>\n",
       "      <td>1999</td>\n",
       "      <td>Nephritis, nephrotic syndrome and nephrosis (N...</td>\n",
       "      <td>Kidney disease</td>\n",
       "      <td>Wyoming</td>\n",
       "      <td>30</td>\n",
       "      <td>6.8</td>\n",
       "    </tr>\n",
       "  </tbody>\n",
       "</table>\n",
       "<p>9690 rows × 6 columns</p>\n",
       "</div>"
      ],
      "text/plain": [
       "       Year                                     113 Cause Name  \\\n",
       "1      2017  Accidents (unintentional injuries) (V01-X59,Y8...   \n",
       "2      2017  Accidents (unintentional injuries) (V01-X59,Y8...   \n",
       "3      2017  Accidents (unintentional injuries) (V01-X59,Y8...   \n",
       "4      2017  Accidents (unintentional injuries) (V01-X59,Y8...   \n",
       "5      2017  Accidents (unintentional injuries) (V01-X59,Y8...   \n",
       "...     ...                                                ...   \n",
       "10863  1999  Nephritis, nephrotic syndrome and nephrosis (N...   \n",
       "10864  1999  Nephritis, nephrotic syndrome and nephrosis (N...   \n",
       "10865  1999  Nephritis, nephrotic syndrome and nephrosis (N...   \n",
       "10866  1999  Nephritis, nephrotic syndrome and nephrosis (N...   \n",
       "10867  1999  Nephritis, nephrotic syndrome and nephrosis (N...   \n",
       "\n",
       "                   Cause Name          State  Deaths  Age-adjusted Death Rate  \n",
       "1      Unintentional injuries        Alabama    2703                     53.8  \n",
       "2      Unintentional injuries         Alaska     436                     63.7  \n",
       "3      Unintentional injuries        Arizona    4184                     56.2  \n",
       "4      Unintentional injuries       Arkansas    1625                     51.8  \n",
       "5      Unintentional injuries     California   13840                     33.2  \n",
       "...                       ...            ...     ...                      ...  \n",
       "10863          Kidney disease       Virginia    1035                     16.9  \n",
       "10864          Kidney disease     Washington     278                      5.2  \n",
       "10865          Kidney disease  West Virginia     345                     16.4  \n",
       "10866          Kidney disease      Wisconsin     677                     11.9  \n",
       "10867          Kidney disease        Wyoming      30                      6.8  \n",
       "\n",
       "[9690 rows x 6 columns]"
      ]
     },
     "execution_count": 117,
     "metadata": {},
     "output_type": "execute_result"
    }
   ],
   "source": [
    "COD_df = COD_df.loc[(COD_df['Cause Name'] != 'All causes ') & (COD_df['State'] != 'United States') & (COD_df['Cause Name'] != 'All causes')]\n",
    "COD_df"
   ]
  },
  {
   "cell_type": "code",
   "execution_count": 38,
   "metadata": {},
   "outputs": [
    {
     "data": {
      "text/plain": [
       "Unintentional injuries     969\n",
       "Alzheimer's disease        969\n",
       "Stroke                     969\n",
       "CLRD                       969\n",
       "Diabetes                   969\n",
       "Heart disease              969\n",
       "Influenza and pneumonia    969\n",
       "Suicide                    969\n",
       "Cancer                     969\n",
       "Kidney disease             969\n",
       "Name: Cause Name, dtype: int64"
      ]
     },
     "execution_count": 38,
     "metadata": {},
     "output_type": "execute_result"
    }
   ],
   "source": [
    "COD_cause_counts = COD_df['Cause Name'].value_counts()\n",
    "COD_cause_counts"
   ]
  },
  {
   "cell_type": "code",
   "execution_count": 39,
   "metadata": {},
   "outputs": [
    {
     "data": {
      "text/plain": [
       "Alabama                 190\n",
       "Pennsylvania            190\n",
       "Nevada                  190\n",
       "New Hampshire           190\n",
       "New Jersey              190\n",
       "New Mexico              190\n",
       "New York                190\n",
       "North Carolina          190\n",
       "North Dakota            190\n",
       "Ohio                    190\n",
       "Oklahoma                190\n",
       "Oregon                  190\n",
       "Rhode Island            190\n",
       "Montana                 190\n",
       "South Carolina          190\n",
       "South Dakota            190\n",
       "Tennessee               190\n",
       "Texas                   190\n",
       "Utah                    190\n",
       "Vermont                 190\n",
       "Virginia                190\n",
       "Washington              190\n",
       "West Virginia           190\n",
       "Wisconsin               190\n",
       "Nebraska                190\n",
       "Missouri                190\n",
       "Alaska                  190\n",
       "Idaho                   190\n",
       "Arizona                 190\n",
       "Arkansas                190\n",
       "California              190\n",
       "Colorado                190\n",
       "Connecticut             190\n",
       "Delaware                190\n",
       "District of Columbia    190\n",
       "Florida                 190\n",
       "Georgia                 190\n",
       "Hawaii                  190\n",
       "Illinois                190\n",
       "Mississippi             190\n",
       "Indiana                 190\n",
       "Iowa                    190\n",
       "Kansas                  190\n",
       "Kentucky                190\n",
       "Louisiana               190\n",
       "Maine                   190\n",
       "Maryland                190\n",
       "Massachusetts           190\n",
       "Michigan                190\n",
       "Minnesota               190\n",
       "Wyoming                 190\n",
       "Name: State, dtype: int64"
      ]
     },
     "execution_count": 39,
     "metadata": {},
     "output_type": "execute_result"
    }
   ],
   "source": [
    "COD_State_counts = COD_df['State'].value_counts()\n",
    "COD_State_counts"
   ]
  },
  {
   "cell_type": "code",
   "execution_count": 50,
   "metadata": {},
   "outputs": [
    {
     "data": {
      "text/plain": [
       "Cause Name\n",
       "Heart disease              12613.663571\n",
       "Cancer                     11190.551084\n",
       "Stroke                      2813.749226\n",
       "CLRD                        2677.943240\n",
       "Unintentional injuries      2422.930857\n",
       "Alzheimer's disease         1542.637771\n",
       "Diabetes                    1444.729618\n",
       "Influenza and pneumonia     1129.660475\n",
       "Kidney disease               886.081527\n",
       "Suicide                      719.314757\n",
       "Name: Deaths, dtype: float64"
      ]
     },
     "execution_count": 50,
     "metadata": {},
     "output_type": "execute_result"
    }
   ],
   "source": [
    "cause_avg = COD_df.groupby('Cause Name')['Deaths'].mean()\n",
    "cause_avg.sort_values(ascending = False)"
   ]
  },
  {
   "cell_type": "code",
   "execution_count": 102,
   "metadata": {},
   "outputs": [],
   "source": [
    "\n",
    "Cause_by_state_avg = COD_df.groupby(['State', 'Cause Name'])['Deaths'].mean().reset_index()\n",
    "Cause_by_state_avg_df = Cause_by_state_avg.sort_values(by=['State', 'Deaths'], ascending=[True, False]).set_index(['State', 'Cause Name'])\n",
    "Cause_by_state_avg_df = Cause_by_state_avg_df.rename(columns={'Deaths': 'Average Death'})\n",
    "Cause_by_state_avg_df['Average Death'] = Cause_by_state_avg_df['Average Death'].round(2)\n",
    "\n",
    "\n",
    "\n",
    "Cause_by_state_avg_df.to_csv('Created CSV/Cause_by_state_avg_df.csv')\n"
   ]
  },
  {
   "cell_type": "code",
   "execution_count": 84,
   "metadata": {},
   "outputs": [
    {
     "data": {
      "text/plain": [
       "Year\n",
       "2017    4081.433333\n",
       "2016    3988.468627\n",
       "2015    3947.092157\n",
       "2014    3800.800000\n",
       "2002    3762.496078\n",
       "2003    3749.245098\n",
       "2013    3745.707843\n",
       "1999    3736.913725\n",
       "2000    3729.792157\n",
       "2001    3724.231373\n",
       "2005    3705.845098\n",
       "2012    3679.584314\n",
       "2008    3672.511765\n",
       "2011    3665.335294\n",
       "2004    3655.162745\n",
       "2006    3636.619608\n",
       "2010    3632.056863\n",
       "2007    3620.198039\n",
       "2009    3604.903922\n",
       "Name: Deaths, dtype: float64"
      ]
     },
     "execution_count": 84,
     "metadata": {},
     "output_type": "execute_result"
    }
   ],
   "source": [
    "Yr_avg_death = COD_df.groupby('Year')['Deaths'].mean()\n",
    "Yr_avg_death.sort_values(ascending = False)"
   ]
  },
  {
   "cell_type": "code",
   "execution_count": 104,
   "metadata": {},
   "outputs": [],
   "source": [
    "Yr_avg_death = COD_df.groupby(['State','Year'])['Deaths'].mean().reset_index()\n",
    "Yr_avg_death_df = Yr_avg_death.sort_values(by=['Year', 'Deaths'], ascending=[True, False]).set_index(['Year', 'State'])\n",
    "Yr_avg_death_df = Yr_avg_death_df.rename(columns={'Deaths': 'Average Death'})\n",
    "Yr_avg_death_df['Average Death'] = Yr_avg_death_df['Average Death'].round(2)\n",
    "\n",
    "\n",
    "Yr_avg_death_df.to_csv('Created CSV/Yr_avg_death_df.csv')"
   ]
  },
  {
   "cell_type": "code",
   "execution_count": 110,
   "metadata": {},
   "outputs": [],
   "source": [
    "big_four = COD_df.loc[COD_df['State'].isin(['California', 'New York', 'Florida', 'Texas'])]\n",
    "big_four = big_four.groupby(['State', 'Cause Name'])['Deaths'].mean().reset_index()\n",
    "big_four = big_four.sort_values(by=['State', 'Deaths'], ascending=[True, False]).set_index(['State', 'Cause Name'])\n",
    "big_four = big_four.rename(columns={'Deaths': 'Average Death'})\n",
    "big_four['Average Death'] = big_four['Average Death'].round(2)\n",
    "\n",
    "\n",
    "big_four.to_csv('Created CSV/big_four.csv')"
   ]
  },
  {
   "cell_type": "code",
   "execution_count": 115,
   "metadata": {},
   "outputs": [],
   "source": [
    "big_four_yr = COD_df.loc[COD_df['Year'].isin([2017, 2016, 2015, 2014])]\n",
    "big_four_yr = big_four_yr.groupby(['Year', 'Cause Name'])['Deaths'].mean().reset_index()\n",
    "big_four_yr = big_four_yr.sort_values(by=['Year', 'Deaths'], ascending=[True, False]).set_index(['Year','Cause Name'])\n",
    "big_four_yr = big_four_yr.rename(columns={'Deaths': 'Average Death'})\n",
    "big_four_yr['Average Death'] = big_four_yr['Average Death'].round(2)\n",
    "\n",
    "\n",
    "big_four_yr.to_csv('Created CSV/big_four_yr.csv')"
   ]
  },
  {
   "cell_type": "code",
   "execution_count": 128,
   "metadata": {},
   "outputs": [
    {
     "data": {
      "text/plain": [
       "510"
      ]
     },
     "execution_count": 128,
     "metadata": {},
     "output_type": "execute_result"
    }
   ],
   "source": [
    "import os\n",
    "from sqlalchemy import create_engine\n",
    "\n",
    "\n",
    "csv_file_path = 'Created CSV/Cause_by_state_avg_df.csv'\n",
    "sqlite_file_path = 'sqlite:///Created SQLite/Cause_by_state_avg_df.sqlite'\n",
    "\n",
    "df = pd.read_csv(csv_file_path)\n",
    "\n",
    "engine = create_engine(sqlite_file_path)\n",
    "\n",
    "table_name = csv_file_path.split('/')[-1].replace('.csv', '')\n",
    "\n",
    "df.to_sql(table_name, engine, if_exists='replace', index=False)\n",
    "\n"
   ]
  },
  {
   "cell_type": "code",
   "execution_count": 129,
   "metadata": {},
   "outputs": [
    {
     "name": "stdout",
     "output_type": "stream",
     "text": [
      "('Alabama', 'Heart disease', 12660.16)\n",
      "('Alabama', 'Cancer', 10062.63)\n",
      "('Alabama', 'Stroke', 2865.16)\n",
      "('Alabama', 'CLRD', 2698.0)\n",
      "('Alabama', 'Unintentional injuries', 2414.26)\n"
     ]
    }
   ],
   "source": [
    "engine = create_engine('sqlite:///Created SQLite/Cause_by_state_avg_df.sqlite')\n",
    "table_name = 'Cause_by_state_avg_df'  \n",
    "\n",
    "\n",
    "result = engine.execute(f\"SELECT * FROM {table_name} LIMIT 5\")\n",
    "for row in result:\n",
    "    print(row)\n",
    "\n",
    "\n",
    "result.close()"
   ]
  },
  {
   "cell_type": "code",
   "execution_count": 130,
   "metadata": {},
   "outputs": [
    {
     "data": {
      "text/plain": [
       "969"
      ]
     },
     "execution_count": 130,
     "metadata": {},
     "output_type": "execute_result"
    }
   ],
   "source": [
    "csv_file_path = 'Created CSV/Yr_avg_death_df.csv'\n",
    "sqlite_file_path = 'sqlite:///Created SQLite/Yr_avg_death_df.sqlite'\n",
    "\n",
    "df = pd.read_csv(csv_file_path)\n",
    "\n",
    "engine = create_engine(sqlite_file_path)\n",
    "\n",
    "table_name = csv_file_path.split('/')[-1].replace('.csv', '')\n",
    "\n",
    "df.to_sql(table_name, engine, if_exists='replace', index=False)\n"
   ]
  },
  {
   "cell_type": "code",
   "execution_count": 131,
   "metadata": {},
   "outputs": [
    {
     "name": "stdout",
     "output_type": "stream",
     "text": [
      "(1999, 'California', 18615.3)\n",
      "(1999, 'New York', 13073.9)\n",
      "(1999, 'Florida', 13018.3)\n",
      "(1999, 'Texas', 11630.4)\n",
      "(1999, 'Pennsylvania', 10438.8)\n"
     ]
    }
   ],
   "source": [
    "engine = create_engine('sqlite:///Created SQLite/Yr_avg_death_df.sqlite')\n",
    "table_name = 'Yr_avg_death_df'  \n",
    "\n",
    "\n",
    "result = engine.execute(f\"SELECT * FROM {table_name} LIMIT 5\")\n",
    "for row in result:\n",
    "    print(row)\n",
    "\n",
    "\n",
    "result.close()"
   ]
  },
  {
   "cell_type": "code",
   "execution_count": 132,
   "metadata": {},
   "outputs": [
    {
     "data": {
      "text/plain": [
       "40"
      ]
     },
     "execution_count": 132,
     "metadata": {},
     "output_type": "execute_result"
    }
   ],
   "source": [
    "csv_file_path = 'Created CSV/big_four.csv'\n",
    "sqlite_file_path = 'sqlite:///Created SQLite/big_four.sqlite'\n",
    "\n",
    "df = pd.read_csv(csv_file_path)\n",
    "\n",
    "engine = create_engine(sqlite_file_path)\n",
    "\n",
    "table_name = csv_file_path.split('/')[-1].replace('.csv', '')\n",
    "\n",
    "df.to_sql(table_name, engine, if_exists='replace', index=False)"
   ]
  },
  {
   "cell_type": "code",
   "execution_count": 133,
   "metadata": {},
   "outputs": [
    {
     "name": "stdout",
     "output_type": "stream",
     "text": [
      "('California', 'Heart disease', 63398.58)\n",
      "('California', 'Cancer', 55907.11)\n",
      "('California', 'Stroke', 15495.05)\n",
      "('California', 'CLRD', 13123.58)\n",
      "('California', 'Unintentional injuries', 10945.32)\n"
     ]
    }
   ],
   "source": [
    "engine = create_engine('sqlite:///Created SQLite/big_four.sqlite')\n",
    "table_name = 'big_four'  \n",
    "\n",
    "\n",
    "result = engine.execute(f\"SELECT * FROM {table_name} LIMIT 5\")\n",
    "for row in result:\n",
    "    print(row)\n",
    "\n",
    "\n",
    "result.close()"
   ]
  },
  {
   "cell_type": "code",
   "execution_count": 134,
   "metadata": {},
   "outputs": [
    {
     "data": {
      "text/plain": [
       "40"
      ]
     },
     "execution_count": 134,
     "metadata": {},
     "output_type": "execute_result"
    }
   ],
   "source": [
    "csv_file_path = 'Created CSV/big_four_yr.csv'\n",
    "sqlite_file_path = 'sqlite:///Created SQLite/big_four_yr.sqlite'\n",
    "\n",
    "df = pd.read_csv(csv_file_path)\n",
    "\n",
    "engine = create_engine(sqlite_file_path)\n",
    "\n",
    "table_name = csv_file_path.split('/')[-1].replace('.csv', '')\n",
    "\n",
    "df.to_sql(table_name, engine, if_exists='replace', index=False)"
   ]
  },
  {
   "cell_type": "code",
   "execution_count": 135,
   "metadata": {},
   "outputs": [
    {
     "name": "stdout",
     "output_type": "stream",
     "text": [
      "(2014, 'Heart disease', 12046.04)\n",
      "(2014, 'Cancer', 11601.96)\n",
      "(2014, 'CLRD', 2884.33)\n",
      "(2014, 'Unintentional injuries', 2665.25)\n",
      "(2014, 'Stroke', 2609.86)\n"
     ]
    }
   ],
   "source": [
    "engine = create_engine('sqlite:///Created SQLite/big_four_yr.sqlite')\n",
    "table_name = 'big_four_yr'  \n",
    "\n",
    "\n",
    "result = engine.execute(f\"SELECT * FROM {table_name} LIMIT 5\")\n",
    "for row in result:\n",
    "    print(row)\n",
    "\n",
    "\n",
    "result.close()"
   ]
  }
 ],
 "metadata": {
  "kernelspec": {
   "display_name": "dev",
   "language": "python",
   "name": "python3"
  },
  "language_info": {
   "codemirror_mode": {
    "name": "ipython",
    "version": 3
   },
   "file_extension": ".py",
   "mimetype": "text/x-python",
   "name": "python",
   "nbconvert_exporter": "python",
   "pygments_lexer": "ipython3",
   "version": "3.10.11"
  },
  "orig_nbformat": 4
 },
 "nbformat": 4,
 "nbformat_minor": 2
}
